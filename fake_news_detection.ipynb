{
 "cells": [
  {
   "cell_type": "code",
   "execution_count": 2,
   "metadata": {},
   "outputs": [],
   "source": [
    "import pandas as pd"
   ]
  },
  {
   "cell_type": "markdown",
   "metadata": {},
   "source": [
    "# Dataset Loading"
   ]
  },
  {
   "cell_type": "code",
   "execution_count": 20,
   "metadata": {},
   "outputs": [
    {
     "name": "stdout",
     "output_type": "stream",
     "text": [
      "                                                Headline  Body ID     Stance  \\\n",
      "0      Police find mass graves with at least '15 bodi...      712  unrelated   \n",
      "1               Seth Rogen to Play Apple’s Steve Wozniak      712    discuss   \n",
      "2      Mexico police find mass grave near site 43 stu...      712  unrelated   \n",
      "3      Mexico Says Missing Students Not Found In Firs...      712  unrelated   \n",
      "4      New iOS 8 bug can delete all of your iCloud do...      712  unrelated   \n",
      "...                                                  ...      ...        ...   \n",
      "49967  Amazon Is Opening a Brick-and-Mortar Store in ...      464      agree   \n",
      "49968  Elon University has not banned the term ‘fresh...      362      agree   \n",
      "49969  Fake BBC News website set up to carry Charlie ...      915      agree   \n",
      "49970  Apple was forced to nix key health features fr...      407    discuss   \n",
      "49971  If you want an Apple Watch, you’ll probably be...     1066    discuss   \n",
      "\n",
      "                                             articleBody  \n",
      "0      Danny Boyle is directing the untitled film\\n\\n...  \n",
      "1      Danny Boyle is directing the untitled film\\n\\n...  \n",
      "2      Danny Boyle is directing the untitled film\\n\\n...  \n",
      "3      Danny Boyle is directing the untitled film\\n\\n...  \n",
      "4      Danny Boyle is directing the untitled film\\n\\n...  \n",
      "...                                                  ...  \n",
      "49967  Amazon, the cyber store that sells everything,...  \n",
      "49968  ELON, N.C. – A recent rumor claims that Elon U...  \n",
      "49969  A realistic-looking fake BBC News website has ...  \n",
      "49970  The health-focused smartwatch that Apple initi...  \n",
      "49971  We still don’t know the exact date the Apple W...  \n",
      "\n",
      "[49972 rows x 4 columns]\n"
     ]
    }
   ],
   "source": [
    "train_bodies = pd.read_csv(\"dataset/train_bodies.csv\")\n",
    "train_stances = pd.read_csv(\"dataset/train_stances.csv\")\n",
    "train_dataset = train_stances.merge(train_bodies, on='Body ID', how=\"inner\")\n",
    "\n",
    "test_bodies = pd.read_csv(\"dataset/competition_test_bodies.csv\")\n",
    "test_stances = pd.read_csv(\"dataset/competition_test_stances.csv\")\n",
    "train_dataset = test_stances.merge(test_bodies, on='Body ID', how=\"inner\")"
   ]
  },
  {
   "cell_type": "markdown",
   "metadata": {},
   "source": [
    "# Feature Extraction"
   ]
  },
  {
   "cell_type": "code",
   "execution_count": null,
   "metadata": {},
   "outputs": [],
   "source": []
  }
 ],
 "metadata": {
  "kernelspec": {
   "display_name": "Python 3",
   "language": "python",
   "name": "python3"
  },
  "language_info": {
   "codemirror_mode": {
    "name": "ipython",
    "version": 3
   },
   "file_extension": ".py",
   "mimetype": "text/x-python",
   "name": "python",
   "nbconvert_exporter": "python",
   "pygments_lexer": "ipython3",
   "version": "3.8.6"
  }
 },
 "nbformat": 4,
 "nbformat_minor": 4
}
